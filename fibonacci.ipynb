{
 "cells": [
  {
   "cell_type": "markdown",
   "metadata": {},
   "source": [
    "# Build fibonacci sereies using recursive function.\n",
    "#O(n) as the function is called n times recursively."
   ]
  },
  {
   "cell_type": "code",
   "execution_count": 69,
   "metadata": {},
   "outputs": [],
   "source": [
    "def fibonacci(n, arr_in):\n",
    "    if n < 1:\n",
    "        print(\"wrong input\")\n",
    "        return \n",
    "    \n",
    "    #first term is 0\n",
    "    if n == 1 :        \n",
    "        arr_in.append(0)\n",
    "        return      \n",
    "    \n",
    "    #2nd term is 1\n",
    "    if n == 2 :  \n",
    "        fibonacci(1,arr_in)\n",
    "        arr_in.append(1)\n",
    "        return\n",
    "    \n",
    "\n",
    "    fibonacci(n-1,arr_in)\n",
    "    \n",
    "    # nth term is the sum of the last two digits in the series.    \n",
    "    #ie., for n=3,  it will arr[0]+arr[1] = 0 + 1 = 1, so arr[2] = 1\n",
    "    #ie., for n=4, it will arr[2]+arr[1] = 1 + 1 = 1, so arr[3] = 2\n",
    "    #ie., for n=5, it will arr[3]+arr[2] = 2 + 1 = 3, so arr[4] = 2\n",
    "    \n",
    "    #length of array = n-1 at this point.\n",
    "    #so, the last term is at pos arr[n-1-1] ie., at [n-2].\n",
    "    #and the previous to last term is [n-1-2], ie., at [n-3].\n",
    "    ssum=arr_in[n-2]+arr_in[n-3]\n",
    "    \n",
    "    arr_in.append(ssum)\n",
    "    \n",
    "    return"
   ]
  },
  {
   "cell_type": "code",
   "execution_count": 70,
   "metadata": {},
   "outputs": [
    {
     "name": "stdout",
     "output_type": "stream",
     "text": [
      "fibonacci series=[0, 1, 1, 2, 3, 5, 8, 13, 21, 34]\n"
     ]
    }
   ],
   "source": [
    "arr=[]\n",
    "fibonacci(10,arr)\n",
    "print(\"fibonacci series={}\".format(arr))\n"
   ]
  },
  {
   "cell_type": "markdown",
   "metadata": {},
   "source": [
    "# Build fibonacci series using a loop within one function.\n",
    "#o(n) as the array is built one by one\n"
   ]
  },
  {
   "cell_type": "code",
   "execution_count": 71,
   "metadata": {},
   "outputs": [],
   "source": [
    "def fibonacci_by_loop(n):\n",
    "    arr_l=[]\n",
    "    ssum=0\n",
    "    if n < 1:\n",
    "        print(\"wrong input\")\n",
    "        return arr_l\n",
    "    \n",
    "    done = False\n",
    "    cnt=0\n",
    "    while done == False:\n",
    "        if cnt == 0:\n",
    "            arr_l.append(0)\n",
    "        elif cnt == 1:\n",
    "            arr_l.append(1)\n",
    "        else:\n",
    "            #append sum of previous two terms\n",
    "            ssum = arr_l[cnt-1] + arr_l[cnt-2]\n",
    "            arr_l.append(ssum)\n",
    "            \n",
    "        cnt += 1\n",
    "        if cnt == n:\n",
    "            done=True\n",
    "            break\n",
    "            \n",
    "    return arr_l\n"
   ]
  },
  {
   "cell_type": "code",
   "execution_count": 72,
   "metadata": {},
   "outputs": [
    {
     "name": "stdout",
     "output_type": "stream",
     "text": [
      "fibonacci series by loop=[0, 1, 1, 2, 3, 5, 8, 13, 21, 34]\n"
     ]
    }
   ],
   "source": [
    "arr=fibonacci_by_loop(10)\n",
    "print(\"fibonacci series by loop={}\".format(arr))\n"
   ]
  }
 ],
 "metadata": {
  "kernelspec": {
   "display_name": "Python 3",
   "language": "python",
   "name": "python3"
  },
  "language_info": {
   "codemirror_mode": {
    "name": "ipython",
    "version": 3
   },
   "file_extension": ".py",
   "mimetype": "text/x-python",
   "name": "python",
   "nbconvert_exporter": "python",
   "pygments_lexer": "ipython3",
   "version": "3.7.8"
  }
 },
 "nbformat": 4,
 "nbformat_minor": 4
}
